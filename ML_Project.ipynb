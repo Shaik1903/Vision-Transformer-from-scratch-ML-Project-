{
  "nbformat": 4,
  "nbformat_minor": 0,
  "metadata": {
    "colab": {
      "provenance": [],
      "gpuType": "T4",
      "authorship_tag": "ABX9TyPi3rHub1j6t0kJz1iom2YO",
      "include_colab_link": true
    },
    "kernelspec": {
      "name": "python3",
      "display_name": "Python 3"
    },
    "language_info": {
      "name": "python"
    },
    "accelerator": "GPU"
  },
  "cells": [
    {
      "cell_type": "markdown",
      "metadata": {
        "id": "view-in-github",
        "colab_type": "text"
      },
      "source": [
        "<a href=\"https://colab.research.google.com/github/Shaik1903/Vision-Transformer-from-scratch-ML-Project-/blob/main/ML_Project.ipynb\" target=\"_parent\"><img src=\"https://colab.research.google.com/assets/colab-badge.svg\" alt=\"Open In Colab\"/></a>"
      ]
    },
    {
      "cell_type": "code",
      "execution_count": 1,
      "metadata": {
        "id": "ZRUwhJyTIsNM"
      },
      "outputs": [],
      "source": [
        "import torch\n",
        "import os\n",
        "from PIL import Image\n",
        "import torchvision.transforms as transforms\n",
        "from torchvision.datasets import ImageFolder\n",
        "from torch.utils.data import DataLoader"
      ]
    },
    {
      "cell_type": "code",
      "source": [
        "from google.colab import drive\n",
        "drive.mount('/content/drive')"
      ],
      "metadata": {
        "colab": {
          "base_uri": "https://localhost:8080/"
        },
        "id": "wCBQrnLfg7Ve",
        "outputId": "c8d7563c-6dd7-47c4-edef-468862fa3b3b"
      },
      "execution_count": 2,
      "outputs": [
        {
          "output_type": "stream",
          "name": "stdout",
          "text": [
            "Mounted at /content/drive\n"
          ]
        }
      ]
    },
    {
      "cell_type": "code",
      "source": [
        "data_path = \"/content/drive/MyDrive/ML Project/mini/small\"\n",
        "output_path = \"/content/drive/MyDrive/ML Project/mini/output\""
      ],
      "metadata": {
        "id": "OPDTdZRdhES1"
      },
      "execution_count": 3,
      "outputs": []
    },
    {
      "cell_type": "code",
      "source": [
        "# resizing the images and transfroming them into tensors\n",
        "transform = transforms.Compose([\n",
        "    transforms.Resize((256, 256)),\n",
        "    transforms.Grayscale(),\n",
        "    transforms.ToTensor(),\n",
        "])"
      ],
      "metadata": {
        "id": "kXulu6S_h_6U"
      },
      "execution_count": 4,
      "outputs": []
    },
    {
      "cell_type": "code",
      "source": [
        "patch_size = 16"
      ],
      "metadata": {
        "id": "ePW0MVA8agbE"
      },
      "execution_count": 5,
      "outputs": []
    },
    {
      "cell_type": "code",
      "source": [
        "# Loading the dataset\n",
        "dataset = ImageFolder(root=data_path, transform=transform)\n",
        "dataloader = DataLoader(dataset, batch_size=32, shuffle=True)"
      ],
      "metadata": {
        "id": "-xtQ_EaNiFMF"
      },
      "execution_count": 6,
      "outputs": []
    },
    {
      "cell_type": "code",
      "source": [
        "num_patches = (256 // patch_size) * (256 // patch_size)\n",
        "desired_dim = 512\n",
        "linear_projection = torch.nn.Linear(patch_size * patch_size, desired_dim)"
      ],
      "metadata": {
        "id": "JBOonC1TiWgi"
      },
      "execution_count": 7,
      "outputs": []
    },
    {
      "cell_type": "code",
      "source": [
        "# storing the tensors\n",
        "all_projected_patches = []"
      ],
      "metadata": {
        "id": "8cIYT_TAobTv"
      },
      "execution_count": 8,
      "outputs": []
    },
    {
      "cell_type": "code",
      "source": [
        "for phase in [\"train\"]:\n",
        "    phase_path = os.path.join(data_path, phase)\n",
        "    for label in os.listdir(phase_path):\n",
        "        label_path = os.path.join(phase_path, label)\n",
        "        for root, _, files in os.walk(label_path):\n",
        "            for file in files:\n",
        "                if file.lower().endswith(('.png', '.jpg', '.jpeg')):\n",
        "                    image_path = os.path.join(root, file)\n",
        "                    image = Image.open(image_path)\n",
        "                    image = transform(image)\n",
        "                    b, h, w = image.size()\n",
        "                    patches = image.unfold(1, patch_size, patch_size).unfold(2, patch_size, patch_size)\n",
        "                    patches = patches.contiguous().view(b, -1, patch_size * patch_size)\n",
        "                    projected_patches = linear_projection(patches)\n",
        "                    # Add the projected patches to the list\n",
        "                    all_projected_patches.append(projected_patches)\n",
        "\n",
        "# Convert the list to a torch tensor\n",
        "all_projected_patches = torch.cat(all_projected_patches, dim=1)\n",
        "\n",
        "output_file_path = os.path.join(output_path, \"projected_patches.pt\")\n",
        "torch.save(all_projected_patches, output_file_path)\n",
        "\n",
        "print(f\"Projected patches saved at {output_file_path}\")"
      ],
      "metadata": {
        "colab": {
          "base_uri": "https://localhost:8080/"
        },
        "id": "5w15UFeNmGuk",
        "outputId": "eb56a970-8c02-4f3a-95d1-8546be74488d"
      },
      "execution_count": 9,
      "outputs": [
        {
          "output_type": "stream",
          "name": "stdout",
          "text": [
            "Projected patches saved at /content/drive/MyDrive/ML Project/mini/output/projected_patches.pt\n"
          ]
        }
      ]
    },
    {
      "cell_type": "code",
      "source": [
        "saved_file_path = \"/content/drive/MyDrive/ML Project/mini/output/projected_patches.pt\""
      ],
      "metadata": {
        "id": "XvqVEq8nmeOp"
      },
      "execution_count": 10,
      "outputs": []
    },
    {
      "cell_type": "code",
      "source": [
        "# Load the projected patches\n",
        "loaded_data = torch.load(saved_file_path)"
      ],
      "metadata": {
        "id": "ZNNK-f86n6t5"
      },
      "execution_count": 11,
      "outputs": []
    },
    {
      "cell_type": "code",
      "source": [
        "# Print the shape of the loaded data\n",
        "print(\"Loaded data shape:\", loaded_data.shape)"
      ],
      "metadata": {
        "colab": {
          "base_uri": "https://localhost:8080/"
        },
        "id": "V0yV4Q4cpdY1",
        "outputId": "a7390124-5afb-4ede-8d45-9b753234385d"
      },
      "execution_count": 11,
      "outputs": [
        {
          "output_type": "stream",
          "name": "stdout",
          "text": [
            "Loaded data shape: torch.Size([2810, 1, 512])\n"
          ]
        }
      ]
    },
    {
      "cell_type": "code",
      "source": [
        "# Print the shape of the loaded data\n",
        "print(\"Loaded data shape:\", loaded_data.shape)"
      ],
      "metadata": {
        "id": "DwsIOCCF_vAk",
        "outputId": "c0ee44df-245e-498a-c4ec-9751c3c6398e",
        "colab": {
          "base_uri": "https://localhost:8080/"
        }
      },
      "execution_count": 12,
      "outputs": [
        {
          "output_type": "stream",
          "name": "stdout",
          "text": [
            "Loaded data shape: torch.Size([1, 719360, 512])\n"
          ]
        }
      ]
    },
    {
      "cell_type": "code",
      "source": [
        "loaded_data[0].size()"
      ],
      "metadata": {
        "colab": {
          "base_uri": "https://localhost:8080/"
        },
        "id": "HFUic20ppgs4",
        "outputId": "0bd900f5-290a-410b-ff6a-1712bffc4815"
      },
      "execution_count": 12,
      "outputs": [
        {
          "output_type": "execute_result",
          "data": {
            "text/plain": [
              "torch.Size([1, 512])"
            ]
          },
          "metadata": {},
          "execution_count": 12
        }
      ]
    },
    {
      "cell_type": "code",
      "source": [],
      "metadata": {
        "id": "6250-mB3wmWI"
      },
      "execution_count": null,
      "outputs": []
    }
  ]
}